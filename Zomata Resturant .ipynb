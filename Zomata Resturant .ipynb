{
 "cells": [
  {
   "cell_type": "code",
   "execution_count": 1,
   "id": "8d41240c-f0cb-4926-80a9-50190f66969c",
   "metadata": {},
   "outputs": [],
   "source": [
    "import pandas as pd\n",
    "import matplotlib.pyplot as plt\n",
    "import seaborn as sns\n",
    "import numpy as np"
   ]
  },
  {
   "cell_type": "code",
   "execution_count": 2,
   "id": "5b91d898-40dd-496c-bfaf-5c1c978e6154",
   "metadata": {},
   "outputs": [],
   "source": [
    "import sqlite3"
   ]
  },
  {
   "cell_type": "code",
   "execution_count": 3,
   "id": "e012eef5-8679-4891-80bb-3df27a1617eb",
   "metadata": {},
   "outputs": [],
   "source": [
    "con=sqlite3.connect(r\"D:\\moha\\job\\data analyst\\python\\course 3\\zomato\\zomato_rawdata.sqlite\")"
   ]
  },
  {
   "cell_type": "code",
   "execution_count": 4,
   "id": "bd0ab269-8397-4ae7-8af1-63dd1d02e980",
   "metadata": {},
   "outputs": [],
   "source": [
    "df=pd.read_sql_query(\"select *from Users\",con)"
   ]
  },
  {
   "cell_type": "code",
   "execution_count": 5,
   "id": "ed5ad360-7d92-463c-8d4f-6ebc01e06f0a",
   "metadata": {},
   "outputs": [
    {
     "data": {
      "text/plain": [
       "(51717, 18)"
      ]
     },
     "execution_count": 5,
     "metadata": {},
     "output_type": "execute_result"
    }
   ],
   "source": [
    "df.shape"
   ]
  },
  {
   "cell_type": "code",
   "execution_count": 6,
   "id": "f956675e-22c0-4203-88cb-ba4be40f054d",
   "metadata": {},
   "outputs": [
    {
     "data": {
      "text/plain": [
       "Index(['index', 'url', 'address', 'name', 'online_order', 'book_table', 'rate',\n",
       "       'votes', 'phone', 'location', 'rest_type', 'dish_liked', 'cuisines',\n",
       "       'approx_cost(for two people)', 'reviews_list', 'menu_item',\n",
       "       'listed_in(type)', 'listed_in(city)'],\n",
       "      dtype='object')"
      ]
     },
     "execution_count": 6,
     "metadata": {},
     "output_type": "execute_result"
    }
   ],
   "source": [
    "df.columns\n"
   ]
  },
  {
   "cell_type": "markdown",
   "id": "c9d26a94-6f17-4c9e-9563-a54dc6ddb675",
   "metadata": {},
   "source": [
    "## 2.. Dealing  with missing values ? "
   ]
  },
  {
   "cell_type": "code",
   "execution_count": 7,
   "id": "cf24e148-9320-431c-a760-d068729921d5",
   "metadata": {},
   "outputs": [
    {
     "data": {
      "text/plain": [
       "index                           0.000000\n",
       "url                             0.000000\n",
       "address                         0.000000\n",
       "name                            0.000000\n",
       "online_order                    0.000000\n",
       "book_table                      0.000000\n",
       "rate                           15.033741\n",
       "votes                           0.000000\n",
       "phone                           2.335789\n",
       "location                        0.040606\n",
       "rest_type                       0.438927\n",
       "dish_liked                     54.291626\n",
       "cuisines                        0.087012\n",
       "approx_cost(for two people)     0.669026\n",
       "reviews_list                    0.000000\n",
       "menu_item                       0.000000\n",
       "listed_in(type)                 0.000000\n",
       "listed_in(city)                 0.000000\n",
       "dtype: float64"
      ]
     },
     "execution_count": 7,
     "metadata": {},
     "output_type": "execute_result"
    }
   ],
   "source": [
    "df.isnull().sum()/len(df)*100\n",
    "\n"
   ]
  },
  {
   "cell_type": "code",
   "execution_count": 8,
   "id": "3a8e2e93-ca57-40c1-a73f-329a3f62a5c3",
   "metadata": {},
   "outputs": [
    {
     "data": {
      "text/plain": [
       "array(['4.1/5', '3.8/5', '3.7/5', '3.6/5', '4.6/5', '4.0/5', '4.2/5',\n",
       "       '3.9/5', '3.1/5', '3.0/5', '3.2/5', '3.3/5', '2.8/5', '4.4/5',\n",
       "       '4.3/5', 'NEW', '2.9/5', '3.5/5', None, '2.6/5', '3.8 /5', '3.4/5',\n",
       "       '4.5/5', '2.5/5', '2.7/5', '4.7/5', '2.4/5', '2.2/5', '2.3/5',\n",
       "       '3.4 /5', '-', '3.6 /5', '4.8/5', '3.9 /5', '4.2 /5', '4.0 /5',\n",
       "       '4.1 /5', '3.7 /5', '3.1 /5', '2.9 /5', '3.3 /5', '2.8 /5',\n",
       "       '3.5 /5', '2.7 /5', '2.5 /5', '3.2 /5', '2.6 /5', '4.5 /5',\n",
       "       '4.3 /5', '4.4 /5', '4.9/5', '2.1/5', '2.0/5', '1.8/5', '4.6 /5',\n",
       "       '4.9 /5', '3.0 /5', '4.8 /5', '2.3 /5', '4.7 /5', '2.4 /5',\n",
       "       '2.1 /5', '2.2 /5', '2.0 /5', '1.8 /5'], dtype=object)"
      ]
     },
     "execution_count": 8,
     "metadata": {},
     "output_type": "execute_result"
    }
   ],
   "source": [
    "df[\"rate\"].unique()"
   ]
  },
  {
   "cell_type": "code",
   "execution_count": 9,
   "id": "7990bee6-5ee3-40b9-8cce-275a23a1db9e",
   "metadata": {},
   "outputs": [],
   "source": [
    "df[\"rate\"].replace(('-',\"NEW\"),np.nan,inplace=True)"
   ]
  },
  {
   "cell_type": "code",
   "execution_count": 10,
   "id": "3f6aedf1-ee51-4d21-8b5c-496f10befef5",
   "metadata": {},
   "outputs": [
    {
     "data": {
      "text/plain": [
       "array(['4.1/5', '3.8/5', '3.7/5', '3.6/5', '4.6/5', '4.0/5', '4.2/5',\n",
       "       '3.9/5', '3.1/5', '3.0/5', '3.2/5', '3.3/5', '2.8/5', '4.4/5',\n",
       "       '4.3/5', nan, '2.9/5', '3.5/5', None, '2.6/5', '3.8 /5', '3.4/5',\n",
       "       '4.5/5', '2.5/5', '2.7/5', '4.7/5', '2.4/5', '2.2/5', '2.3/5',\n",
       "       '3.4 /5', '3.6 /5', '4.8/5', '3.9 /5', '4.2 /5', '4.0 /5',\n",
       "       '4.1 /5', '3.7 /5', '3.1 /5', '2.9 /5', '3.3 /5', '2.8 /5',\n",
       "       '3.5 /5', '2.7 /5', '2.5 /5', '3.2 /5', '2.6 /5', '4.5 /5',\n",
       "       '4.3 /5', '4.4 /5', '4.9/5', '2.1/5', '2.0/5', '1.8/5', '4.6 /5',\n",
       "       '4.9 /5', '3.0 /5', '4.8 /5', '2.3 /5', '4.7 /5', '2.4 /5',\n",
       "       '2.1 /5', '2.2 /5', '2.0 /5', '1.8 /5'], dtype=object)"
      ]
     },
     "execution_count": 10,
     "metadata": {},
     "output_type": "execute_result"
    }
   ],
   "source": [
    "df[\"rate\"].unique()"
   ]
  },
  {
   "cell_type": "code",
   "execution_count": 11,
   "id": "f3fa29ac-7c99-4a8c-ab42-27c3b4376726",
   "metadata": {},
   "outputs": [],
   "source": [
    "## we need rating as 4.1 not as '4.1/5' , ie we need to fix it .."
   ]
  },
  {
   "cell_type": "code",
   "execution_count": 12,
   "id": "f8d1d2b2-6fcc-448f-81c8-513b9ee95af5",
   "metadata": {},
   "outputs": [
    {
     "data": {
      "text/plain": [
       "'4.1'"
      ]
     },
     "execution_count": 12,
     "metadata": {},
     "output_type": "execute_result"
    }
   ],
   "source": [
    "'4.1/5'.split(\"/\")[0]"
   ]
  },
  {
   "cell_type": "code",
   "execution_count": 13,
   "id": "b626ec11-aff4-4836-bb6f-7a6434c055a2",
   "metadata": {},
   "outputs": [
    {
     "data": {
      "text/plain": [
       "str"
      ]
     },
     "execution_count": 13,
     "metadata": {},
     "output_type": "execute_result"
    }
   ],
   "source": [
    "type('4.1/5'.split(\"/\")[0])"
   ]
  },
  {
   "cell_type": "code",
   "execution_count": 14,
   "id": "be5327ab-d9d6-41e1-b928-89571feca956",
   "metadata": {},
   "outputs": [
    {
     "data": {
      "text/plain": [
       "4.1"
      ]
     },
     "execution_count": 14,
     "metadata": {},
     "output_type": "execute_result"
    }
   ],
   "source": [
    "float('4.1/5'.split(\"/\")[0])"
   ]
  },
  {
   "cell_type": "code",
   "execution_count": 15,
   "id": "1c4595a1-7d1d-493f-82f5-ea8b7a8a1a8b",
   "metadata": {},
   "outputs": [],
   "source": [
    "df['rate'] =df[\"rate\"].apply(lambda x:float(x.split(\"/\")[0]) if type (x)==str else x)"
   ]
  },
  {
   "cell_type": "code",
   "execution_count": 16,
   "id": "39481a9a-2b1a-4c29-89c1-893342cd3bcb",
   "metadata": {},
   "outputs": [
    {
     "data": {
      "text/plain": [
       "0        4.1\n",
       "1        4.1\n",
       "2        3.8\n",
       "3        3.7\n",
       "4        3.8\n",
       "        ... \n",
       "51712    3.6\n",
       "51713    NaN\n",
       "51714    NaN\n",
       "51715    4.3\n",
       "51716    3.4\n",
       "Name: rate, Length: 51717, dtype: float64"
      ]
     },
     "execution_count": 16,
     "metadata": {},
     "output_type": "execute_result"
    }
   ],
   "source": [
    "df['rate']"
   ]
  },
  {
   "cell_type": "markdown",
   "id": "7cbd1009-b89d-4e16-933b-1733d1a6993f",
   "metadata": {},
   "source": [
    "## 3.. Is there a relation between online order option and rating of the restaurant ?"
   ]
  },
  {
   "cell_type": "code",
   "execution_count": 17,
   "id": "b9184f49-3310-4ce5-8893-e17361f91d40",
   "metadata": {},
   "outputs": [],
   "source": [
    "x = pd.crosstab(df['rate'] , df['online_order'])"
   ]
  },
  {
   "cell_type": "code",
   "execution_count": 18,
   "id": "abeb8d0f-7430-407b-98ba-f5525da0aa7b",
   "metadata": {},
   "outputs": [
    {
     "data": {
      "text/html": [
       "<div>\n",
       "<style scoped>\n",
       "    .dataframe tbody tr th:only-of-type {\n",
       "        vertical-align: middle;\n",
       "    }\n",
       "\n",
       "    .dataframe tbody tr th {\n",
       "        vertical-align: top;\n",
       "    }\n",
       "\n",
       "    .dataframe thead th {\n",
       "        text-align: right;\n",
       "    }\n",
       "</style>\n",
       "<table border=\"1\" class=\"dataframe\">\n",
       "  <thead>\n",
       "    <tr style=\"text-align: right;\">\n",
       "      <th>online_order</th>\n",
       "      <th>No</th>\n",
       "      <th>Yes</th>\n",
       "    </tr>\n",
       "    <tr>\n",
       "      <th>rate</th>\n",
       "      <th></th>\n",
       "      <th></th>\n",
       "    </tr>\n",
       "  </thead>\n",
       "  <tbody>\n",
       "    <tr>\n",
       "      <th>1.8</th>\n",
       "      <td>5</td>\n",
       "      <td>0</td>\n",
       "    </tr>\n",
       "    <tr>\n",
       "      <th>2.0</th>\n",
       "      <td>11</td>\n",
       "      <td>0</td>\n",
       "    </tr>\n",
       "    <tr>\n",
       "      <th>2.1</th>\n",
       "      <td>9</td>\n",
       "      <td>15</td>\n",
       "    </tr>\n",
       "    <tr>\n",
       "      <th>2.2</th>\n",
       "      <td>10</td>\n",
       "      <td>16</td>\n",
       "    </tr>\n",
       "    <tr>\n",
       "      <th>2.3</th>\n",
       "      <td>29</td>\n",
       "      <td>22</td>\n",
       "    </tr>\n",
       "    <tr>\n",
       "      <th>2.4</th>\n",
       "      <td>36</td>\n",
       "      <td>34</td>\n",
       "    </tr>\n",
       "    <tr>\n",
       "      <th>2.5</th>\n",
       "      <td>38</td>\n",
       "      <td>63</td>\n",
       "    </tr>\n",
       "    <tr>\n",
       "      <th>2.6</th>\n",
       "      <td>83</td>\n",
       "      <td>177</td>\n",
       "    </tr>\n",
       "    <tr>\n",
       "      <th>2.7</th>\n",
       "      <td>141</td>\n",
       "      <td>166</td>\n",
       "    </tr>\n",
       "    <tr>\n",
       "      <th>2.8</th>\n",
       "      <td>224</td>\n",
       "      <td>376</td>\n",
       "    </tr>\n",
       "    <tr>\n",
       "      <th>2.9</th>\n",
       "      <td>314</td>\n",
       "      <td>488</td>\n",
       "    </tr>\n",
       "    <tr>\n",
       "      <th>3.0</th>\n",
       "      <td>439</td>\n",
       "      <td>584</td>\n",
       "    </tr>\n",
       "    <tr>\n",
       "      <th>3.1</th>\n",
       "      <td>587</td>\n",
       "      <td>974</td>\n",
       "    </tr>\n",
       "    <tr>\n",
       "      <th>3.2</th>\n",
       "      <td>829</td>\n",
       "      <td>1044</td>\n",
       "    </tr>\n",
       "    <tr>\n",
       "      <th>3.3</th>\n",
       "      <td>1137</td>\n",
       "      <td>1173</td>\n",
       "    </tr>\n",
       "    <tr>\n",
       "      <th>3.4</th>\n",
       "      <td>1024</td>\n",
       "      <td>1452</td>\n",
       "    </tr>\n",
       "    <tr>\n",
       "      <th>3.5</th>\n",
       "      <td>1090</td>\n",
       "      <td>1694</td>\n",
       "    </tr>\n",
       "    <tr>\n",
       "      <th>3.6</th>\n",
       "      <td>1090</td>\n",
       "      <td>2226</td>\n",
       "    </tr>\n",
       "    <tr>\n",
       "      <th>3.7</th>\n",
       "      <td>1172</td>\n",
       "      <td>2649</td>\n",
       "    </tr>\n",
       "    <tr>\n",
       "      <th>3.8</th>\n",
       "      <td>1147</td>\n",
       "      <td>2726</td>\n",
       "    </tr>\n",
       "    <tr>\n",
       "      <th>3.9</th>\n",
       "      <td>1017</td>\n",
       "      <td>2955</td>\n",
       "    </tr>\n",
       "    <tr>\n",
       "      <th>4.0</th>\n",
       "      <td>874</td>\n",
       "      <td>2309</td>\n",
       "    </tr>\n",
       "    <tr>\n",
       "      <th>4.1</th>\n",
       "      <td>843</td>\n",
       "      <td>2105</td>\n",
       "    </tr>\n",
       "    <tr>\n",
       "      <th>4.2</th>\n",
       "      <td>648</td>\n",
       "      <td>1536</td>\n",
       "    </tr>\n",
       "    <tr>\n",
       "      <th>4.3</th>\n",
       "      <td>692</td>\n",
       "      <td>1001</td>\n",
       "    </tr>\n",
       "    <tr>\n",
       "      <th>4.4</th>\n",
       "      <td>374</td>\n",
       "      <td>773</td>\n",
       "    </tr>\n",
       "    <tr>\n",
       "      <th>4.5</th>\n",
       "      <td>297</td>\n",
       "      <td>359</td>\n",
       "    </tr>\n",
       "    <tr>\n",
       "      <th>4.6</th>\n",
       "      <td>140</td>\n",
       "      <td>160</td>\n",
       "    </tr>\n",
       "    <tr>\n",
       "      <th>4.7</th>\n",
       "      <td>113</td>\n",
       "      <td>54</td>\n",
       "    </tr>\n",
       "    <tr>\n",
       "      <th>4.8</th>\n",
       "      <td>34</td>\n",
       "      <td>32</td>\n",
       "    </tr>\n",
       "    <tr>\n",
       "      <th>4.9</th>\n",
       "      <td>12</td>\n",
       "      <td>43</td>\n",
       "    </tr>\n",
       "  </tbody>\n",
       "</table>\n",
       "</div>"
      ],
      "text/plain": [
       "online_order    No   Yes\n",
       "rate                    \n",
       "1.8              5     0\n",
       "2.0             11     0\n",
       "2.1              9    15\n",
       "2.2             10    16\n",
       "2.3             29    22\n",
       "2.4             36    34\n",
       "2.5             38    63\n",
       "2.6             83   177\n",
       "2.7            141   166\n",
       "2.8            224   376\n",
       "2.9            314   488\n",
       "3.0            439   584\n",
       "3.1            587   974\n",
       "3.2            829  1044\n",
       "3.3           1137  1173\n",
       "3.4           1024  1452\n",
       "3.5           1090  1694\n",
       "3.6           1090  2226\n",
       "3.7           1172  2649\n",
       "3.8           1147  2726\n",
       "3.9           1017  2955\n",
       "4.0            874  2309\n",
       "4.1            843  2105\n",
       "4.2            648  1536\n",
       "4.3            692  1001\n",
       "4.4            374   773\n",
       "4.5            297   359\n",
       "4.6            140   160\n",
       "4.7            113    54\n",
       "4.8             34    32\n",
       "4.9             12    43"
      ]
     },
     "execution_count": 18,
     "metadata": {},
     "output_type": "execute_result"
    }
   ],
   "source": [
    "x"
   ]
  },
  {
   "cell_type": "code",
   "execution_count": 19,
   "id": "81958181-8e53-485e-9580-8d0f8588f9ba",
   "metadata": {},
   "outputs": [
    {
     "data": {
      "text/plain": [
       "<Axes: xlabel='rate'>"
      ]
     },
     "execution_count": 19,
     "metadata": {},
     "output_type": "execute_result"
    },
    {
     "data": {
      "image/png": "[encoded data removed]",
      "text/plain": [
       "<Figure size 640x480 with 1 Axes>"
      ]
     },
     "metadata": {},
     "output_type": "display_data"
    }
   ],
   "source": [
    "x.plot(kind=\"bar\",stacked=True)"
   ]
  },
  {
   "cell_type": "code",
   "execution_count": 20,
   "id": "bdcebddf-6402-4f87-a351-7891b01cd229",
   "metadata": {},
   "outputs": [],
   "source": [
    "###  modifying  above visual & get better results/inferences."
   ]
  },
  {
   "cell_type": "code",
   "execution_count": 21,
   "id": "a9522f9c-18cd-4339-a721-bd3bf8447567",
   "metadata": {},
   "outputs": [
    {
     "data": {
      "text/plain": [
       "rate\n",
       "1.8       5.0\n",
       "2.0      11.0\n",
       "2.1      24.0\n",
       "2.2      26.0\n",
       "2.3      51.0\n",
       "2.4      70.0\n",
       "2.5     101.0\n",
       "2.6     260.0\n",
       "2.7     307.0\n",
       "2.8     600.0\n",
       "2.9     802.0\n",
       "3.0    1023.0\n",
       "3.1    1561.0\n",
       "3.2    1873.0\n",
       "3.3    2310.0\n",
       "3.4    2476.0\n",
       "3.5    2784.0\n",
       "3.6    3316.0\n",
       "3.7    3821.0\n",
       "3.8    3873.0\n",
       "3.9    3972.0\n",
       "4.0    3183.0\n",
       "4.1    2948.0\n",
       "4.2    2184.0\n",
       "4.3    1693.0\n",
       "4.4    1147.0\n",
       "4.5     656.0\n",
       "4.6     300.0\n",
       "4.7     167.0\n",
       "4.8      66.0\n",
       "4.9      55.0\n",
       "dtype: float64"
      ]
     },
     "execution_count": 21,
     "metadata": {},
     "output_type": "execute_result"
    }
   ],
   "source": [
    "x.sum(axis=1).astype(float)"
   ]
  },
  {
   "cell_type": "code",
   "execution_count": 22,
   "id": "8587e3cd-7871-4d13-b4df-d0808f2b601e",
   "metadata": {},
   "outputs": [],
   "source": [
    "normlaize=x.div(x.sum(axis=1).astype(float),axis=0)"
   ]
  },
  {
   "cell_type": "code",
   "execution_count": 23,
   "id": "9e635222-6b22-42dd-b0b0-cd8d235ca8d2",
   "metadata": {},
   "outputs": [
    {
     "data": {
      "text/plain": [
       "<Axes: xlabel='rate'>"
      ]
     },
     "execution_count": 23,
     "metadata": {},
     "output_type": "execute_result"
    },
    {
     "data": {
      "image/png": "[encoded data removed]",
      "text/plain": [
       "<Figure size 640x480 with 1 Axes>"
      ]
     },
     "metadata": {},
     "output_type": "display_data"
    }
   ],
   "source": [
    "(normlaize*100).plot(kind=\"bar\",stacked =True)"
   ]
  },
  {
   "cell_type": "markdown",
   "id": "ca84107b-15b2-4a65-9dd3-77d5df7a2424",
   "metadata": {},
   "source": [
    "## 4.. Data Cleaning to perform Text Analysis "
   ]
  },
  {
   "cell_type": "code",
   "execution_count": 24,
   "id": "6a0deeff-8eb6-4974-8e08-261430a3f08c",
   "metadata": {},
   "outputs": [
    {
     "data": {
      "text/plain": [
       "227"
      ]
     },
     "execution_count": 24,
     "metadata": {},
     "output_type": "execute_result"
    }
   ],
   "source": [
    "df['rest_type'].isnull().sum()"
   ]
  },
  {
   "cell_type": "code",
   "execution_count": 25,
   "id": "671755ac-4292-43ef-9ed5-626425e1d70a",
   "metadata": {},
   "outputs": [],
   "source": [
    "data=df.dropna(subset=['rest_type'])"
   ]
  },
  {
   "cell_type": "code",
   "execution_count": 26,
   "id": "79c4e5bd-4b3d-444d-896f-e170d175fcb9",
   "metadata": {},
   "outputs": [
    {
     "data": {
      "text/plain": [
       "0"
      ]
     },
     "execution_count": 26,
     "metadata": {},
     "output_type": "execute_result"
    }
   ],
   "source": [
    "data['rest_type'].isnull().sum()"
   ]
  },
  {
   "cell_type": "code",
   "execution_count": 27,
   "id": "6650140c-d895-4e3c-92fe-c470cfbf9063",
   "metadata": {},
   "outputs": [
    {
     "data": {
      "text/plain": [
       "array(['Casual Dining', 'Cafe, Casual Dining', 'Quick Bites',\n",
       "       'Casual Dining, Cafe', 'Cafe', 'Quick Bites, Cafe',\n",
       "       'Cafe, Quick Bites', 'Delivery', 'Mess', 'Dessert Parlor',\n",
       "       'Bakery, Dessert Parlor', 'Pub', 'Bakery', 'Takeaway, Delivery',\n",
       "       'Fine Dining', 'Beverage Shop', 'Sweet Shop', 'Bar',\n",
       "       'Beverage Shop, Quick Bites', 'Confectionery',\n",
       "       'Quick Bites, Beverage Shop', 'Dessert Parlor, Sweet Shop',\n",
       "       'Bakery, Quick Bites', 'Sweet Shop, Quick Bites', 'Kiosk',\n",
       "       'Food Truck', 'Quick Bites, Dessert Parlor',\n",
       "       'Beverage Shop, Dessert Parlor', 'Takeaway', 'Pub, Casual Dining',\n",
       "       'Casual Dining, Bar', 'Dessert Parlor, Beverage Shop',\n",
       "       'Quick Bites, Bakery', 'Dessert Parlor, Quick Bites',\n",
       "       'Microbrewery, Casual Dining', 'Lounge', 'Bar, Casual Dining',\n",
       "       'Food Court', 'Cafe, Bakery', 'Dhaba', 'Quick Bites, Sweet Shop',\n",
       "       'Microbrewery', 'Food Court, Quick Bites', 'Pub, Bar',\n",
       "       'Casual Dining, Pub', 'Lounge, Bar', 'Food Court, Dessert Parlor',\n",
       "       'Casual Dining, Sweet Shop', 'Food Court, Casual Dining',\n",
       "       'Casual Dining, Microbrewery', 'Sweet Shop, Dessert Parlor',\n",
       "       'Bakery, Beverage Shop', 'Lounge, Casual Dining',\n",
       "       'Cafe, Food Court', 'Beverage Shop, Cafe', 'Cafe, Dessert Parlor',\n",
       "       'Dessert Parlor, Cafe', 'Dessert Parlor, Bakery',\n",
       "       'Microbrewery, Pub', 'Bakery, Food Court', 'Club',\n",
       "       'Quick Bites, Food Court', 'Bakery, Cafe', 'Bar, Cafe',\n",
       "       'Pub, Cafe', 'Casual Dining, Irani Cafee', 'Fine Dining, Lounge',\n",
       "       'Bar, Quick Bites', 'Bakery, Kiosk', 'Pub, Microbrewery',\n",
       "       'Microbrewery, Lounge', 'Fine Dining, Microbrewery',\n",
       "       'Fine Dining, Bar', 'Mess, Quick Bites', 'Dessert Parlor, Kiosk',\n",
       "       'Bhojanalya', 'Casual Dining, Quick Bites', 'Pop Up', 'Cafe, Bar',\n",
       "       'Casual Dining, Lounge', 'Bakery, Sweet Shop', 'Microbrewery, Bar',\n",
       "       'Cafe, Lounge', 'Bar, Pub', 'Lounge, Cafe', 'Club, Casual Dining',\n",
       "       'Quick Bites, Mess', 'Quick Bites, Meat Shop',\n",
       "       'Quick Bites, Kiosk', 'Lounge, Microbrewery',\n",
       "       'Food Court, Beverage Shop', 'Dessert Parlor, Food Court',\n",
       "       'Bar, Lounge'], dtype=object)"
      ]
     },
     "execution_count": 27,
     "metadata": {},
     "output_type": "execute_result"
    }
   ],
   "source": [
    "data['rest_type'].unique()"
   ]
  },
  {
   "cell_type": "code",
   "execution_count": null,
   "id": "bf68c694-2ef4-4cc1-9300-05122cc717e7",
   "metadata": {},
   "outputs": [],
   "source": [
    "## we need whole data of 'Quick Bites' restaurant only "
   ]
  },
  {
   "cell_type": "code",
   "execution_count": 47,
   "id": "2c290a3a-42cc-45b9-a450-fa29f552ee12",
   "metadata": {},
   "outputs": [],
   "source": [
    "quick_Bites_df=data[data['rest_type'].str.contains(\"Quick Bites\")]"
   ]
  },
  {
   "cell_type": "code",
   "execution_count": 48,
   "id": "e1c10184-c38e-4c92-9205-80d4b7dfb9e0",
   "metadata": {},
   "outputs": [
    {
     "data": {
      "text/plain": [
       "(20639, 18)"
      ]
     },
     "execution_count": 48,
     "metadata": {},
     "output_type": "execute_result"
    }
   ],
   "source": [
    "quick_Bites_df.shape"
   ]
  },
  {
   "cell_type": "code",
   "execution_count": 49,
   "id": "cbaee090-1109-49fb-afbd-faf190ff7f0a",
   "metadata": {},
   "outputs": [
    {
     "data": {
      "text/plain": [
       "Index(['index', 'url', 'address', 'name', 'online_order', 'book_table', 'rate',\n",
       "       'votes', 'phone', 'location', 'rest_type', 'dish_liked', 'cuisines',\n",
       "       'approx_cost(for two people)', 'reviews_list', 'menu_item',\n",
       "       'listed_in(type)', 'listed_in(city)'],\n",
       "      dtype='object')"
      ]
     },
     "execution_count": 49,
     "metadata": {},
     "output_type": "execute_result"
    }
   ],
   "source": [
    "quick_Bites_df.columns"
   ]
  },
  {
   "cell_type": "code",
   "execution_count": null,
   "id": "a7754638-20ac-446f-8a5e-2d4046babb70",
   "metadata": {},
   "outputs": [],
   "source": [
    "### Perform Lower-case operation"
   ]
  },
  {
   "cell_type": "code",
   "execution_count": 50,
   "id": "eaf04799-ae6d-4cc3-9c12-bc9640bdf15c",
   "metadata": {},
   "outputs": [
    {
     "data": {
      "text/plain": [
       "3        [('Rated 4.0', \"RATED\\n  Great food and proper...\n",
       "23       [('Rated 4.0', \"RATED\\n  So, went here with fr...\n",
       "26       [('Rated 5.0', 'RATED\\n  please provide some e...\n",
       "31       [('Rated 1.0', \"RATED\\n  Worst restaurant ever...\n",
       "34       [('Rated 3.0', 'RATED\\n  Not worth for the mon...\n",
       "                               ...                        \n",
       "51641    [('Rated 2.0', \"RATED\\n  Food is not upto the ...\n",
       "51642                                                   []\n",
       "51643                                                   []\n",
       "51644                                                   []\n",
       "51645    [('Rated 5.0', \"RATED\\n  I was randomly lookin...\n",
       "Name: reviews_list, Length: 20639, dtype: object"
      ]
     },
     "execution_count": 50,
     "metadata": {},
     "output_type": "execute_result"
    }
   ],
   "source": [
    "quick_Bites_df['reviews_list']"
   ]
  },
  {
   "cell_type": "code",
   "execution_count": 52,
   "id": "dfad71cc-1359-42b0-b296-241e84eb9226",
   "metadata": {},
   "outputs": [
    {
     "name": "stderr",
     "output_type": "stream",
     "text": [
      "C:\\Users\\user\\AppData\\Local\\Temp\\ipykernel_14156\\2754502288.py:1: SettingWithCopyWarning: \n",
      "A value is trying to be set on a copy of a slice from a DataFrame.\n",
      "Try using .loc[row_indexer,col_indexer] = value instead\n",
      "\n",
      "See the caveats in the documentation: https://pandas.pydata.org/pandas-docs/stable/user_guide/indexing.html#returning-a-view-versus-a-copy\n",
      "  quick_Bites_df['reviews_list']=quick_Bites_df['reviews_list'].apply(lambda x:x.lower())\n"
     ]
    }
   ],
   "source": [
    "quick_Bites_df['reviews_list']=quick_Bites_df['reviews_list'].apply(lambda x:x.lower())"
   ]
  },
  {
   "cell_type": "code",
   "execution_count": 53,
   "id": "f7ae68d0-681c-43ac-b31a-74fca85945d4",
   "metadata": {},
   "outputs": [],
   "source": [
    "#### b) Do tokenization"
   ]
  },
  {
   "cell_type": "code",
   "execution_count": 54,
   "id": "8c176020-f296-48b1-8c39-387afcd33bb1",
   "metadata": {},
   "outputs": [],
   "source": [
    "from nltk.corpus import RegexpTokenizer"
   ]
  },
  {
   "cell_type": "code",
   "execution_count": 56,
   "id": "50ce08fb-6729-4344-b38c-c1d5b67ce258",
   "metadata": {},
   "outputs": [],
   "source": [
    "tokenizer =RegexpTokenizer(\"[a-zA-Z]+\")"
   ]
  },
  {
   "cell_type": "code",
   "execution_count": 73,
   "id": "fde6b091-be8f-4a18-b9ba-139919f86bef",
   "metadata": {},
   "outputs": [
    {
     "name": "stdout",
     "output_type": "stream",
     "text": [
      "['rated', 'rated', 'n', 'great', 'food', 'and', 'proper', 'karnataka', 'style', 'full', 'meals', 'been', 'there', 'twice', 'and', 'was', 'fully', 'satisfied', 'will', 'give', 'stars', 'if', 'it', 's', 'well', 'managed', 'rated', 'rated', 'n', 'reached', 'the', 'place', 'at', 'pm', 'on', 'saturday', 'half', 'of', 'the', 'items', 'on', 'the', 'menu', 'were', 'over', 'what', 'was', 'annoying', 'was', 'is', 'the', 'food', 'was', 'cold', 'the', 'taste', 'was', 'also', 'very', 'average', 'only', 'dosa', 'and', 'holige', 'were', 'good', 'there', 'were', 'very', 'few', 'people', 'in', 'the', 'restaurant', 'and', 'the', 'service', 'was', 'still', 'very', 'slow', 'the', 'waiters', 'were', 'all', 'standing', 'in', 'one', 'corner', 'and', 'talking', 'had', 'to', 'call', 'them', 'repeatedly', 'rated', 'rated', 'n', 'had', 'been', 'here', 'good', 'food', 'served', 'and', 'tasty', 'good', 'place', 'to', 'go', 'with', 'freinds', 'and', 'family', 'should', 'be', 'first', 'to', 'get', 'served', 'well', 'with', 'all', 'food', 'one', 'of', 'the', 'good', 'hotel', 'there', 'for', 'this', 'price', 'rated', 'rated', 'n', 'how', 'can', 'a', 'udupi', 'restaurant', 'be', 'so', 'dirty', 'the', 'floor', 'the', 'walls', 'the', 'waiters', 'are', 'all', 'stained', 'in', 'food', 'why', 'cant', 'they', 'clean', 'it', 'the', 'floor', 'even', 'had', 'decorative', 'colour', 'paper', 'every', 'where', 'and', 'lot', 'of', 'food', 'now', 'coming', 'to', 'the', 'taste', 'of', 'the', 'food', 'it', 'was', 'pretty', 'decent', 'for', 'what', 'they', 'chargw', 'what', 'upset', 'us', 'was', 'the', 'menu', 'says', 'they', 'serve', 'thambuli', 'two', 'variety', 'of', 'rice', 'etc', 'but', 'they', 'were', 'all', 'over', 'at', 'but', 'they', 'still', 'charged', 'us', 'full', 'amount', 'lastly', 'if', 'u', 'r', 'ok', 'to', 'b', 'seated', 'with', 'random', 'people', 'and', 'adjust', 'with', 'their', 'table', 'manners', 'burrping', 'etc', 'then', 'tis', 'place', 'is', 'decent', 'for', 'a', 'quick', 'veg', 'udupi', 'meals', 'rated', 'rated', 'n', 'aadhuri', 'udupi', 'bhojana', 'is', 'one', 'of', 'the', 'best', 'vegetarian', 'hotel', 'in', 'and', 'around', 'banashankari', 'locality', 'nwere', 'we', 'can', 'enjoy', 'the', 'authentic', 'south', 'karnataka', 'style', 'food', 'rated', 'rated', 'n', 'one', 'of', 'the', 'best', 'restaurants', 'for', 'unlimited', 'food', 'price', 'for', 'one', 'full', 'unlimited', 'meal', 'is', 'and', 'the', 'service', 'is', 'awesome', 'here', 'if', 'you', 'x', 'x', 'x', 'x', 'x', 'x', 'x', 'x', 're', 'a', 'costalian', 'you', 'will', 'love', 'the', 'food', 'served', 'here', 'rated', 'rated', 'n', 'been', 'here', 'a', 'couple', 'of', 'times', 'highly', 'satisfying', 'on', 'both', 'the', 'ocassions', 'great', 'food', 'decent', 'service', 'at', 'price', 'of', 'per', 'person', 'it', 'is', 'of', 'a', 'great', 'value', 'the', 'staff', 'here', 'serves', 'in', 'a', 'traditional', 'mysore', 'style', 'dresses', 'the', 'food', 'is', 'authentic', 'karnataka', 'meals', 'i', 'really', 'liked', 'the', 'pineapple', 'pickle', 'chutney', 'they', 'serve', 'some', 'varities', 'of', 'rice', 'of', 'which', 'you', 'shouldn', 't', 'try', 'all', 'as', 'you', 'would', 'already', 'be', 'full', 'roti', 'dosa', 'were', 'decent', 'in', 'the', 'deserts', 'payasam', 'holige', 'were', 'good', 'ni', 'think', 'it', 'is', 'one', 'the', 'must', 'try', 'places', 'to', 'try', 'some', 'authentic', 'south', 'food', 'even', 'if', 'you', 'have', 'been', 'to', 'the', 'likes', 'of', 'kamath', 'etc', 'this', 'one', 'is', 'a', 'little', 'different', 'rated', 'rated', 'n', 'very', 'good', 'restorent', 'good', 'south', 'indian', 'food', 'very', 'nice', 'all', 'food', 's', 'are', 'good', 'we', 'spent', 'good', 'time', 'and', 'food', 'in', 'this', 'hotel', 'value', 'of', 'money', 'we', 'loved', 'it', 'rated', 'rated', 'n', 'i', 'went', 'to', 'this', 'restaurant', 'on', 'sunday', 'afternoon', 'it', 'was', 'a', 'bit', 'crowded', 'n', 'nits', 'located', 'in', 'the', 'st', 'floor', 'above', 'anna', 'kuteera', 'kathriguppe', 'n', 'nyou', 'need', 'to', 'take', 'food', 'coupon', 'in', 'the', 'ground', 'floor', 'itself', 'nit', 'was', 'rs', 'n', 'ntaste', 'wise', 'it', 'was', 'good', 'nservice', 'was', 'slow', 'nnothing', 'exciting', 'different', 'in', 'the', 'menu', 'nwhatever', 'they', 'serve', 'its', 'good', 'nworth', 'for', 'money', 'rated', 'rated', 'n', 'awesome', 'place', 'worth', 'with', 'price', 'quality', 'quantity', 'service', 'hygiene', 'and', 'discipline', 'i', 'loved', 'it', 'wish', 'there', 'were', 'more', 'rating', 'stars', 'to', 'give', 'i', 'give', 'on', 'for', 'sure', 'rated', 'rated', 'n', 'nice', 'food', 'good', 'ambiance', 'so', 'many', 'verity', 'of', 'food', 'this', 'time', 'i', 'was', 'in', 'hurry', 'so', 'next', 'review', 'will', 'be', 'detailed', 'one', 'its', 'good', 'to', 'see', 'all', 'dishes', 'at', 'one', 'place', 'rated', 'rated', 'n', 'the', 'food', 'was', 'not', 'satisfactory', 'not', 'one', 'item', 'served', 'could', 'be', 'eaten', 'again', 'only', 'advantage', 'is', 'the', 'price', 'but', 'even', 'that', 'is', 'not', 'going', 'to', 'be', 'enough', 'to', 'make', 'me', 'visit', 'the', 'place', 'again', 'dear', 'udupi', 'staff', 'people', 'wouldn', 'x', 'x', 'x', 'x', 'x', 'x', 'x', 'x', 't', 'mind', 'if', 'the', 'food', 'quality', 'was', 'better', 'for', 'a', 'higher', 'price', 'and', 'please', 'get', 'more', 'fans', 'so', 'that', 'people', 'won', 'x', 'x', 'x', 'x', 'x', 'x', 'x', 'x', 't', 'have', 'to', 'deal', 'with', 'another', 'disappointment', 'of', 'sweating', 'while', 'eating', 'rated', 'rated', 'n', 'excellent', 'quality', 'and', 'taste', 'more', 'variety', 'of', 'authentic', 'south', 'indian', 'food', 'excellent', 'service', 'highly', 'recommended', 'worth', 'the', 'money', 'we', 'pay', 'here', 'rated', 'rated', 'n', 'i', 'm', 'rating', 'only', 'because', 'of', 'the', 'large', 'number', 'of', 'items', 'they', 'serve', 'for', 'the', 'price', 'they', 'charge', 'while', 'the', 'taste', 'is', 'moderate', 'the', 'biggest', 'turn', 'off', 'is', 'the', 'poor', 'service', 'and', 'totally', 'unresponsive', 'staff', 'they', 'are', 'either', 'understaffed', 'or', 'poorly', 'trained', 'i', 'didn', 't', 'get', 'to', 'taste', 'a', 'few', 'items', 'thanks', 'to', 'their', 'ever', 'busy', 'staff', 'and', 'ended', 'eating', 'what', 'was', 'served', 'please', 'learn', 'the', 'crowd', 'management', 'from', 'other', 'peers', 'like', 'maiyya', 'and', 'roti', 'ghar', 'rated', 'rated', 'n', 'one', 'of', 'my', 'colleagues', 'suggested', 'this', 'place', 'went', 'there', 'at', 'pm', 'and', 'place', 'wasnt', 'crowded', 'ambience', 'is', 'decent', 'and', 'cool', 'a', 'welcome', 'drink', 'appekai', 'saru', 'was', 'served', 'then', 'started', 'typical', 'baale', 'yele', 'uta', 'diffrerent', 'types', 'of', 'palya', 'kosambari', 'and', 'sides', 'then', 'came', 'masala', 'dosa', 'pulka', 'pulav', 'veg', 'rice', 'bath', 'masala', 'dosa', 'was', 'very', 'very', 'tasty', 'service', 'is', 'bit', 'fast', 'as', 'people', 'will', 'be', 'coming', 'but', 'they', 'will', 'make', 'it', 'slow', 'if', 'u', 'tell', 'them', 'to', 'then', 'comes', 'rice', 'with', 'sambar', 'rasam', 'daal', 'tambali', 'and', 'yes', 'dont', 'forget', 'to', 'eat', 'holige', 'payasam', 'and', 'icecream', 'service', 'is', 'very', 'nice', 'one', 'best', 'thing', 'is', 'all', 'of', 'this', 'comes', 'in', 'just', 'rs', 'and', 'its', 'unlimited', 'what', 'else', 'you', 'want', 'a', 'must', 'visit', 'place', 'for', 'south', 'indian', 'foodie', 'rated', 'rated', 'n', 'been', 'here', 'last', 'week', 'with', 'high', 'expectations', 'based', 'on', 'few', 'reviews', 'but', 'utterly', 'disappointed', 'with', 'the', 'food', 'quality', 'taste', 'i', 'feel', 'it', 's', 'an', 'overhyped', 'place', 'there', 'are', 'many', 'better', 'places', 'in', 'the', 'vicinity', 'for', 'plantain', 'leaf', 'meal', 'there', 'was', 'too', 'much', 'of', 'waiting', 'these', 'staffs', 'were', 'too', 'hurry', 'in', 'serving', 'food', 'asking', 'people', 'to', 'finish', 'meal', 'leave', 'quickly', 'i', 'can', 'understand', 'there', 'is', 'a', 'waiting', 'and', 'staffs', 'should', 'approach', 'in', 'a', 'positive', 'way', 'i', 'will', 'never', 'go', 'there', 'again', 'n', 'nbangaloreepicure', 'com', 'rated', 'rated', 'n', 'i', 'have', 'a', 'confession', 'being', 'a', 'south', 'indian', 'i', 'distaste', 'south', 'indian', 'food', 'not', 'that', 'i', 'hate', 'it', 'i', 'don', 't', 'like', 'it', 'either', 'but', 'still', 'made', 'up', 'my', 'mind', 'on', 'sankaranti', 'to', 'have', 'authentic', 'south', 'indian', 'food', 'visited', 'adduri', 'udupi', 'bhojana', 'because', 'it', 'was', 'close', 'to', 'my', 'place', 'i', 'just', 'had', 'a', 'look', 'at', 'the', 'menu', 'told', 'myself', 'that', 'i', 'can', 'do', 'it', 'i', 'am', 'not', 'blessed', 'with', 'a', 'tremendous', 'appetite', 'welcomed', 'with', 'the', 'mango', 'soup', 'followed', 'by', 'the', 'wide', 'variety', 'of', 'dishes', 'served', 'i', 'have', 'developed', 'the', 'new', 'love', 'for', 'pongal', 'both', 'sweet', 'and', 'khara', 'i', 'can', 'still', 'feel', 'the', 'taste', 'of', 'the', 'ghee', 'bursting', 'in', 'my', 'mouth', 'but', 'it', 'was', 'kai', 'holige', 'that', 'made', 'my', 'day', 'crisp', 'and', 'soft', 'not', 'to', 'forget', 'food', 'is', 'served', 'on', 'a', 'banana', 'leaf', 'that', 'adds', 'in', 'more', 'flavor', 'and', 'taste', 'waiters', 'are', 'attentive', 'and', 'responsive', 'the', 'customer', 's', 'needs', 'are', 'monitored', 'and', 'addressed', 'so', 'much', 'variety', 'for', 'just', 'rs', 'without', 'compromising', 'on', 'quantity', 'and', 'quality', 'and', 'yes', 'it', 'is', 'unlimited', 'this', 'visit', 'turned', 'out', 'to', 'be', 'a', 'surprise', 'package', 'rated', 'rated', 'n', 'food', 'is', 'good', 'nno', 'parking', 'nambience', 'is', 'average', 'noverall', 'its', 'value', 'for', 'money', 'if', 'you', 'looking', 'for', 'south', 'indian', 'food', 'npreferred', 'the', 'tiffin', 'items', 'rated', 'rated', 'n', 'been', 'here', 'last', 'week', 'with', 'high', 'expectations', 'based', 'on', 'few', 'reviews', 'but', 'utterly', 'disappointed', 'with', 'the', 'food', 'quality', 'taste', 'i', 'feel', 'it', 's', 'an', 'overhyped', 'place', 'there', 'are', 'many', 'better', 'places', 'in', 'the', 'vicinity', 'for', 'plantain', 'leaf', 'meal', 'there', 'was', 'too', 'much', 'of', 'waiting', 'these', 'staffs', 'were', 'too', 'hurry', 'in', 'serving', 'food', 'asking', 'people', 'to', 'finish', 'meal', 'leave', 'quickly', 'i', 'can', 'understand', 'there', 'is', 'a', 'waiting', 'and', 'staffs', 'should', 'approach', 'in', 'a', 'positive', 'way', 'i', 'will', 'never', 'go', 'there', 'again', 'n', 'nbangaloreepicure', 'com', 'rated', 'rated', 'n', 'i', 'have', 'a', 'confession', 'being', 'a', 'south', 'indian', 'i', 'distaste', 'south', 'indian', 'food', 'not', 'that', 'i', 'hate', 'it', 'i', 'don', 't', 'like', 'it', 'either', 'but', 'still', 'made', 'up', 'my', 'mind', 'on', 'sankaranti', 'to', 'have', 'authentic', 'south', 'indian', 'food', 'visited', 'adduri', 'udupi', 'bhojana', 'because', 'it', 'was', 'close', 'to', 'my', 'place', 'i', 'just', 'had', 'a', 'look', 'at', 'the', 'menu', 'told', 'myself', 'that', 'i', 'can', 'do', 'it', 'i', 'am', 'not', 'blessed', 'with', 'a', 'tremendous', 'appetite', 'welcomed', 'with', 'the', 'mango', 'soup', 'followed', 'by', 'the', 'wide', 'variety', 'of', 'dishes', 'served', 'i', 'have', 'developed', 'the', 'new', 'love', 'for', 'pongal', 'both', 'sweet', 'and', 'khara', 'i', 'can', 'still', 'feel', 'the', 'taste', 'of', 'the', 'ghee', 'bursting', 'in', 'my', 'mouth', 'but', 'it', 'was', 'kai', 'holige', 'that', 'made', 'my', 'day', 'crisp', 'and', 'soft', 'not', 'to', 'forget', 'food', 'is', 'served', 'on', 'a', 'banana', 'leaf', 'that', 'adds', 'in', 'more', 'flavor', 'and', 'taste', 'waiters', 'are', 'attentive', 'and', 'responsive', 'the', 'customer', 's', 'needs', 'are', 'monitored', 'and', 'addressed', 'so', 'much', 'variety', 'for', 'just', 'rs', 'without', 'compromising', 'on', 'quantity', 'and', 'quality', 'and', 'yes', 'it', 'is', 'unlimited', 'this', 'visit', 'turned', 'out', 'to', 'be', 'a', 'surprise', 'package', 'rated', 'rated', 'n', 'food', 'is', 'good', 'nno', 'parking', 'nambience', 'is', 'average', 'noverall', 'its', 'value', 'for', 'money', 'if', 'you', 'looking', 'for', 'south', 'indian', 'food', 'npreferred', 'the', 'tiffin', 'items', 'rated', 'rated', 'n', 'been', 'here', 'last', 'week', 'with', 'high', 'expectations', 'based', 'on', 'few', 'reviews', 'but', 'utterly', 'disappointed', 'with', 'the', 'food', 'quality', 'taste', 'i', 'feel', 'it', 's', 'an', 'overhyped', 'place', 'there', 'are', 'many', 'better', 'places', 'in', 'the', 'vicinity', 'for', 'plantain', 'leaf', 'meal', 'there', 'was', 'too', 'much', 'of', 'waiting', 'these', 'staffs', 'were', 'too', 'hurry', 'in', 'serving', 'food', 'asking', 'people', 'to', 'finish', 'meal', 'leave', 'quickly', 'i', 'can', 'understand', 'there', 'is', 'a', 'waiting', 'and', 'staffs', 'should', 'approach', 'in', 'a', 'positive', 'way', 'i', 'will', 'never', 'go', 'there', 'again', 'n', 'nbangaloreepicure', 'com', 'rated', 'rated', 'n', 'i', 'have', 'a', 'confession', 'being', 'a', 'south', 'indian', 'i', 'distaste', 'south', 'indian', 'food', 'not', 'that', 'i', 'hate', 'it', 'i', 'don', 't', 'like', 'it', 'either', 'but', 'still', 'made', 'up', 'my', 'mind', 'on', 'sankaranti', 'to', 'have', 'authentic', 'south', 'indian', 'food', 'visited', 'adduri', 'udupi', 'bhojana', 'because', 'it', 'was', 'close', 'to', 'my', 'place', 'i', 'just', 'had', 'a', 'look', 'at', 'the', 'menu', 'told', 'myself', 'that', 'i', 'can', 'do', 'it', 'i', 'am', 'not', 'blessed', 'with', 'a', 'tremendous', 'appetite', 'welcomed', 'with', 'the', 'mango', 'soup', 'followed', 'by', 'the', 'wide', 'variety', 'of', 'dishes', 'served', 'i', 'have', 'developed', 'the', 'new', 'love', 'for', 'pongal', 'both', 'sweet', 'and', 'khara', 'i', 'can', 'still', 'feel', 'the', 'taste', 'of', 'the', 'ghee', 'bursting', 'in', 'my', 'mouth', 'but', 'it', 'was', 'kai', 'holige', 'that', 'made', 'my', 'day', 'crisp', 'and', 'soft', 'not', 'to', 'forget', 'food', 'is', 'served', 'on', 'a', 'banana', 'leaf', 'that', 'adds', 'in', 'more', 'flavor', 'and', 'taste', 'waiters', 'are', 'attentive', 'and', 'responsive', 'the', 'customer', 's', 'needs', 'are', 'monitored', 'and', 'addressed', 'so', 'much', 'variety', 'for', 'just', 'rs', 'without', 'compromising', 'on', 'quantity', 'and', 'quality', 'and', 'yes', 'it', 'is', 'unlimited', 'this', 'visit', 'turned', 'out', 'to', 'be', 'a', 'surprise', 'package', 'rated', 'rated', 'n', 'food', 'is', 'good', 'nno', 'parking', 'nambience', 'is', 'average', 'noverall', 'its', 'value', 'for', 'money', 'if', 'you', 'looking', 'for', 'south', 'indian', 'food', 'npreferred', 'the', 'tiffin', 'items', 'rated', 'rated', 'n', 'been', 'here', 'last', 'week', 'with', 'high', 'expectations', 'based', 'on', 'few', 'reviews', 'but', 'utterly', 'disappointed', 'with', 'the', 'food', 'quality', 'taste', 'i', 'feel', 'it', 's', 'an', 'overhyped', 'place', 'there', 'are', 'many', 'better', 'places', 'in', 'the', 'vicinity', 'for', 'plantain', 'leaf', 'meal', 'there', 'was', 'too', 'much', 'of', 'waiting', 'these', 'staffs', 'were', 'too', 'hurry', 'in', 'serving', 'food', 'asking', 'people', 'to', 'finish', 'meal', 'leave', 'quickly', 'i', 'can', 'understand', 'there', 'is', 'a', 'waiting', 'and', 'staffs', 'should', 'approach', 'in', 'a', 'positive', 'way', 'i', 'will', 'never', 'go', 'there', 'again', 'n', 'nbangaloreepicure', 'com', 'rated', 'rated', 'n', 'i', 'have', 'a', 'confession', 'being', 'a', 'south', 'indian', 'i', 'distaste', 'south', 'indian', 'food', 'not', 'that', 'i', 'hate', 'it', 'i', 'don', 't', 'like', 'it', 'either', 'but', 'still', 'made', 'up', 'my', 'mind', 'on', 'sankaranti', 'to', 'have', 'authentic', 'south', 'indian', 'food', 'visited', 'adduri', 'udupi', 'bhojana', 'because', 'it', 'was', 'close', 'to', 'my', 'place', 'i', 'just', 'had', 'a', 'look', 'at', 'the', 'menu', 'told', 'myself', 'that', 'i', 'can', 'do', 'it', 'i', 'am', 'not', 'blessed', 'with', 'a', 'tremendous', 'appetite', 'welcomed', 'with', 'the', 'mango', 'soup', 'followed', 'by', 'the', 'wide', 'variety', 'of', 'dishes', 'served', 'i', 'have', 'developed', 'the', 'new', 'love', 'for', 'pongal', 'both', 'sweet', 'and', 'khara', 'i', 'can', 'still', 'feel', 'the', 'taste', 'of', 'the', 'ghee', 'bursting', 'in', 'my', 'mouth', 'but', 'it', 'was', 'kai', 'holige', 'that', 'made', 'my', 'day', 'crisp', 'and', 'soft', 'not', 'to', 'forget', 'food', 'is', 'served', 'on', 'a', 'banana', 'leaf', 'that', 'adds', 'in', 'more', 'flavor', 'and', 'taste', 'waiters', 'are', 'attentive', 'and', 'responsive', 'the', 'customer', 's', 'needs', 'are', 'monitored', 'and', 'addressed', 'so', 'much', 'variety', 'for', 'just', 'rs', 'without', 'compromising', 'on', 'quantity', 'and', 'quality', 'and', 'yes', 'it', 'is', 'unlimited', 'this', 'visit', 'turned', 'out', 'to', 'be', 'a', 'surprise', 'package', 'rated', 'rated', 'n', 'food', 'is', 'good', 'nno', 'parking', 'nambience', 'is', 'average', 'noverall', 'its', 'value', 'for', 'money', 'if', 'you', 'looking', 'for', 'south', 'indian', 'food', 'npreferred', 'the', 'tiffin', 'items', 'rated', 'rated', 'n', 'been', 'here', 'last', 'week', 'with', 'high', 'expectations', 'based', 'on', 'few', 'reviews', 'but', 'utterly', 'disappointed', 'with', 'the', 'food', 'quality', 'taste', 'i', 'feel', 'it', 's', 'an', 'overhyped', 'place', 'there', 'are', 'many', 'better', 'places', 'in', 'the', 'vicinity', 'for', 'plantain', 'leaf', 'meal', 'there', 'was', 'too', 'much', 'of', 'waiting', 'these', 'staffs', 'were', 'too', 'hurry', 'in', 'serving', 'food', 'asking', 'people', 'to', 'finish', 'meal', 'leave', 'quickly', 'i', 'can', 'understand', 'there', 'is', 'a', 'waiting', 'and', 'staffs', 'should', 'approach', 'in', 'a', 'positive', 'way', 'i', 'will', 'never', 'go', 'there', 'again', 'n', 'nbangaloreepicure', 'com', 'rated', 'rated', 'n', 'i', 'have', 'a', 'confession', 'being', 'a', 'south', 'indian', 'i', 'distaste', 'south', 'indian', 'food', 'not', 'that', 'i', 'hate', 'it', 'i', 'don', 't', 'like', 'it', 'either', 'but', 'still', 'made', 'up', 'my', 'mind', 'on', 'sankaranti', 'to', 'have', 'authentic', 'south', 'indian', 'food', 'visited', 'adduri', 'udupi', 'bhojana', 'because', 'it', 'was', 'close', 'to', 'my', 'place', 'i', 'just', 'had', 'a', 'look', 'at', 'the', 'menu', 'told', 'myself', 'that', 'i', 'can', 'do', 'it', 'i', 'am', 'not', 'blessed', 'with', 'a', 'tremendous', 'appetite', 'welcomed', 'with', 'the', 'mango', 'soup', 'followed', 'by', 'the', 'wide', 'variety', 'of', 'dishes', 'served', 'i', 'have', 'developed', 'the', 'new', 'love', 'for', 'pongal', 'both', 'sweet', 'and', 'khara', 'i', 'can', 'still', 'feel', 'the', 'taste', 'of', 'the', 'ghee', 'bursting', 'in', 'my', 'mouth', 'but', 'it', 'was', 'kai', 'holige', 'that', 'made', 'my', 'day', 'crisp', 'and', 'soft', 'not', 'to', 'forget', 'food', 'is', 'served', 'on', 'a', 'banana', 'leaf', 'that', 'adds', 'in', 'more', 'flavor', 'and', 'taste', 'waiters', 'are', 'attentive', 'and', 'responsive', 'the', 'customer', 's', 'needs', 'are', 'monitored', 'and', 'addressed', 'so', 'much', 'variety', 'for', 'just', 'rs', 'without', 'compromising', 'on', 'quantity', 'and', 'quality', 'and', 'yes', 'it', 'is', 'unlimited', 'this', 'visit', 'turned', 'out', 'to', 'be', 'a', 'surprise', 'package', 'rated', 'rated', 'n', 'food', 'is', 'good', 'nno', 'parking', 'nambience', 'is', 'average', 'noverall', 'its', 'value', 'for', 'money', 'if', 'you', 'looking', 'for', 'south', 'indian', 'food', 'npreferred', 'the', 'tiffin', 'items', 'rated', 'rated', 'n', 'had', 'been', 'on', 'a', 'week', 'night', 'for', 'an', 'authentic', 'south', 'indian', 'food', 'i', 'personally', 'love', 'being', 'served', 'on', 'banyan', 'leaf', 'the', 'waiters', 'are', 'all', 'dressed', 'up', 'in', 'traditional', 'mysore', 'attire', 'wearing', 'with', 'a', 'peta', 'the', 'food', 'was', 'delicious', 'and', 'definitely', 'worth', 'it', 's', 'price', 'the', 'waiters', 'are', 'friendly', 'and', 'serve', 'u', 'well', 'with', 'a', 'smile', 'the', 'food', 'is', 'prepared', 'without', 'garlic', 'which', 'is', 'a', 'plus', 'point', 'attracting', 'many', 'senior', 'customers', 'rated', 'rated', 'n', 'food', 'is', 'good', 'and', 'enjoyed', 'with', 'rs', 'is', 'very', 'nice', 'nnote', 'it', 'happen', 'with', 'us', 'n', 'if', 'you', 'going', 'two', 'people', 'you', 'may', 'need', 'to', 'share', 'the', 'table', 'there', 'its', 'almost', 'crowed', 'n', 'you', 'have', 'to', 'sit', 'where', 'they', 'ask', 'you', 'can', 't', 'choose', 'even', 'if', 'all', 'the', 'table', 'are', 'empty', 'njust', 'wait', 'eat', 'and', 'come', 'back', 'rated', 'rated', 'n', 'excellent', 'ambience', 'with', 'delicious', 'meals', 'with', 'variety', 'types', 'worth', 'paying', 'for', 'money', 'and', 'you', 'can', 'dine', 'out', 'if', 'you', 'are', 'with', 'more', 'friends', 'relatives', 'in', 'home', 'rated', 'rated', 'n', 'very', 'good', 'and', 'unlimited', 'especially', 'masala', 'dosa', 'service', 'and', 'ambience', 'was', 'also', 'good', 'will', 'visit', 'again', 'with', 'friends', 'very', 'very', 'reasonble', 'and', 'wholesome', 'food', 'rated', 'rated', 'n', 'aaaa', 'wt', 'to', 'tell', 'unlimited', 'food', 'food', 'was', 'like', 'exactly', 'like', 'south', 'indian', 'marriage', 'food', 'soups', 'sides', 'masala', 'dosa', 'all', 'were', 'unlimited', 'for', 'just', 'except', 'ice', 'cream', 'in', 'the', 'end', 'they', 'give', 'a', 'water', 'bottle', 'and', 'main', 'thing', 'is', 'have', 'patience', 'to', 'get', 'place', 'to', 'sit', 'there', 'is', 'no', 'parking', 'place', 'of', 'this', 'outlet', 'and', 'difficult', 'to', 'park', 'in', 'front', 'of', 'the', 'restaurants']\n"
     ]
    }
   ],
   "source": [
    "print(tokenizer.tokenize(quick_Bites_df['reviews_list'][3]))"
   ]
  },
  {
   "cell_type": "code",
   "execution_count": 58,
   "id": "7c163c57-d4aa-479c-bd93-419d4c1a5f2c",
   "metadata": {},
   "outputs": [],
   "source": [
    "sample=quick_Bites_df[0:1000]"
   ]
  },
  {
   "cell_type": "code",
   "execution_count": 60,
   "id": "61631c5a-ce7e-4f44-a76f-74c77db8476d",
   "metadata": {},
   "outputs": [],
   "source": [
    "reviews_tokens=sample[\"reviews_list\"].apply(tokenizer.tokenize)"
   ]
  },
  {
   "cell_type": "markdown",
   "id": "724f134e-4fca-49c5-804d-9c80aa1442d4",
   "metadata": {},
   "source": [
    "## 5.. Performing Unigram analysis & removal of stopwords .."
   ]
  },
  {
   "cell_type": "code",
   "execution_count": 61,
   "id": "33002465-710d-4287-9031-aa54dc5b09e9",
   "metadata": {},
   "outputs": [
    {
     "data": {
      "text/plain": [
       "3       [rated, rated, n, great, food, and, proper, ka...\n",
       "23      [rated, rated, n, so, went, here, with, friend...\n",
       "26      [rated, rated, n, please, provide, some, extra...\n",
       "31      [rated, rated, n, worst, restaurant, ever, veg...\n",
       "34      [rated, rated, n, not, worth, for, the, money,...\n",
       "                              ...                        \n",
       "2209                                                   []\n",
       "2210                                                   []\n",
       "2211    [rated, rated, n, went, for, breakfast, on, a,...\n",
       "2212    [rated, rated, n, very, bad, quality, of, food...\n",
       "2213                                                   []\n",
       "Name: reviews_list, Length: 1000, dtype: object"
      ]
     },
     "execution_count": 61,
     "metadata": {},
     "output_type": "execute_result"
    }
   ],
   "source": [
    "reviews_tokens"
   ]
  },
  {
   "cell_type": "code",
   "execution_count": 67,
   "id": "35fbd5fd-1e73-4d39-b6e9-e05cd86348d3",
   "metadata": {},
   "outputs": [],
   "source": [
    " import nltk"
   ]
  },
  {
   "cell_type": "code",
   "execution_count": 68,
   "id": "5e59a1f4-3e11-4734-914f-23a9efbe6036",
   "metadata": {},
   "outputs": [
    {
     "name": "stderr",
     "output_type": "stream",
     "text": [
      "[nltk_data] Downloading package stopwords to\n",
      "[nltk_data]     C:\\Users\\user\\AppData\\Roaming\\nltk_data...\n",
      "[nltk_data]   Unzipping corpora\\stopwords.zip.\n"
     ]
    },
    {
     "data": {
      "text/plain": [
       "True"
      ]
     },
     "execution_count": 68,
     "metadata": {},
     "output_type": "execute_result"
    }
   ],
   "source": [
    "nltk.download('stopwords')"
   ]
  },
  {
   "cell_type": "code",
   "execution_count": 69,
   "id": "9c477d6f-d78c-4f5c-8370-be338927a6e7",
   "metadata": {},
   "outputs": [],
   "source": [
    "from nltk.corpus import stopwords"
   ]
  },
  {
   "cell_type": "code",
   "execution_count": 70,
   "id": "00e647b4-8cf5-4f27-801e-b7ac1cd8b7cc",
   "metadata": {},
   "outputs": [],
   "source": [
    "stop = stopwords.words('english')"
   ]
  },
  {
   "cell_type": "code",
   "execution_count": 72,
   "id": "d873a187-0400-4d81-94a5-7748d37997b5",
   "metadata": {},
   "outputs": [
    {
     "name": "stdout",
     "output_type": "stream",
     "text": [
      "['i', 'me', 'my', 'myself', 'we', 'our', 'ours', 'ourselves', 'you', \"you're\", \"you've\", \"you'll\", \"you'd\", 'your', 'yours', 'yourself', 'yourselves', 'he', 'him', 'his', 'himself', 'she', \"she's\", 'her', 'hers', 'herself', 'it', \"it's\", 'its', 'itself', 'they', 'them', 'their', 'theirs', 'themselves', 'what', 'which', 'who', 'whom', 'this', 'that', \"that'll\", 'these', 'those', 'am', 'is', 'are', 'was', 'were', 'be', 'been', 'being', 'have', 'has', 'had', 'having', 'do', 'does', 'did', 'doing', 'a', 'an', 'the', 'and', 'but', 'if', 'or', 'because', 'as', 'until', 'while', 'of', 'at', 'by', 'for', 'with', 'about', 'against', 'between', 'into', 'through', 'during', 'before', 'after', 'above', 'below', 'to', 'from', 'up', 'down', 'in', 'out', 'on', 'off', 'over', 'under', 'again', 'further', 'then', 'once', 'here', 'there', 'when', 'where', 'why', 'how', 'all', 'any', 'both', 'each', 'few', 'more', 'most', 'other', 'some', 'such', 'no', 'nor', 'not', 'only', 'own', 'same', 'so', 'than', 'too', 'very', 's', 't', 'can', 'will', 'just', 'don', \"don't\", 'should', \"should've\", 'now', 'd', 'll', 'm', 'o', 're', 've', 'y', 'ain', 'aren', \"aren't\", 'couldn', \"couldn't\", 'didn', \"didn't\", 'doesn', \"doesn't\", 'hadn', \"hadn't\", 'hasn', \"hasn't\", 'haven', \"haven't\", 'isn', \"isn't\", 'ma', 'mightn', \"mightn't\", 'mustn', \"mustn't\", 'needn', \"needn't\", 'shan', \"shan't\", 'shouldn', \"shouldn't\", 'wasn', \"wasn't\", 'weren', \"weren't\", 'won', \"won't\", 'wouldn', \"wouldn't\"]\n"
     ]
    }
   ],
   "source": [
    "print(stop) "
   ]
  },
  {
   "cell_type": "code",
   "execution_count": 74,
   "id": "0a72b60f-edd5-4c05-8c37-cafa194d583a",
   "metadata": {},
   "outputs": [],
   "source": [
    "stop.extend(['rated' , \"n\" , \"nan\" , \"x\" , \"RATED\" , \"Rated\"])"
   ]
  },
  {
   "cell_type": "code",
   "execution_count": 75,
   "id": "a608d571-3e46-4a0f-ac14-a08f3126d0ff",
   "metadata": {},
   "outputs": [],
   "source": [
    "## remove stopwords from \"reviews_tokens\" Series\n",
    "reviews_tokens_clean = reviews_tokens.apply(lambda each_review : [token for token in each_review if token not in stop])"
   ]
  },
  {
   "cell_type": "code",
   "execution_count": 76,
   "id": "2acc9ac9-7888-46dd-8401-27de212a7da6",
   "metadata": {},
   "outputs": [
    {
     "data": {
      "text/plain": [
       "3       [great, food, proper, karnataka, style, full, ...\n",
       "23      [went, friends, tea, ambience, striking, say, ...\n",
       "26      [please, provide, extra, sambal, quantity, les...\n",
       "31      [worst, restaurant, ever, veg, manchurian, wor...\n",
       "34      [worth, money, pay, ambience, good, enough, se...\n",
       "                              ...                        \n",
       "2209                                                   []\n",
       "2210                                                   []\n",
       "2211    [went, breakfast, saturday, morning, serve, am...\n",
       "2212    [bad, quality, food, hygiene, ordered, online,...\n",
       "2213                                                   []\n",
       "Name: reviews_list, Length: 1000, dtype: object"
      ]
     },
     "execution_count": 76,
     "metadata": {},
     "output_type": "execute_result"
    }
   ],
   "source": [
    "reviews_tokens_clean"
   ]
  },
  {
   "cell_type": "code",
   "execution_count": 77,
   "id": "b70a0c71-0069-43ae-88c3-43fc0394096f",
   "metadata": {},
   "outputs": [
    {
     "data": {
      "text/plain": [
       "pandas.core.series.Series"
      ]
     },
     "execution_count": 77,
     "metadata": {},
     "output_type": "execute_result"
    }
   ],
   "source": [
    "type(reviews_tokens_clean)"
   ]
  },
  {
   "cell_type": "code",
   "execution_count": 78,
   "id": "60a6eeb9-fdf7-4da7-9c02-d523928b1966",
   "metadata": {},
   "outputs": [],
   "source": [
    "total_reviews_2D = list(reviews_tokens_clean)"
   ]
  },
  {
   "cell_type": "code",
   "execution_count": 81,
   "id": "15f11277-263f-4b7e-ab64-32fca4025412",
   "metadata": {},
   "outputs": [],
   "source": [
    "total_reviews_1D = []\n",
    "\n",
    "for review in total_reviews_2D:\n",
    "    for word in review:\n",
    "        total_reviews_1D.append(word)"
   ]
  },
  {
   "cell_type": "code",
   "execution_count": 82,
   "id": "43b704bd-f6e9-4e37-819e-004fd5c42bf9",
   "metadata": {},
   "outputs": [],
   "source": [
    "from nltk import FreqDist"
   ]
  },
  {
   "cell_type": "code",
   "execution_count": 84,
   "id": "1f4f421a-3731-4a4d-9f70-925e032720f1",
   "metadata": {},
   "outputs": [],
   "source": [
    "fd = FreqDist()"
   ]
  },
  {
   "cell_type": "code",
   "execution_count": 85,
   "id": "57d3f212-13b0-474a-842a-14ef66885407",
   "metadata": {},
   "outputs": [],
   "source": [
    "for word in total_reviews_1D:\n",
    "    fd[word] = fd[word] + 1"
   ]
  },
  {
   "cell_type": "code",
   "execution_count": 86,
   "id": "f29c21cf-bb1c-48f0-abbc-8282b845e319",
   "metadata": {},
   "outputs": [
    {
     "data": {
      "text/plain": [
       "[('good', 9539),\n",
       " ('food', 9381),\n",
       " ('place', 6212),\n",
       " ('chicken', 3860),\n",
       " ('taste', 3712),\n",
       " ('ordered', 2776),\n",
       " ('order', 2265),\n",
       " ('service', 2253),\n",
       " ('one', 2246),\n",
       " ('like', 2231),\n",
       " ('time', 2028),\n",
       " ('also', 2011),\n",
       " ('restaurant', 1833),\n",
       " ('try', 1827),\n",
       " ('delivery', 1769),\n",
       " ('quality', 1708),\n",
       " ('biryani', 1660),\n",
       " ('best', 1653),\n",
       " ('really', 1615),\n",
       " ('nice', 1614)]"
      ]
     },
     "execution_count": 86,
     "metadata": {},
     "output_type": "execute_result"
    }
   ],
   "source": [
    "fd.most_common(20)"
   ]
  },
  {
   "cell_type": "code",
   "execution_count": 88,
   "id": "b46ba9cc-088c-473c-a22b-4b62e2e3022d",
   "metadata": {},
   "outputs": [
    {
     "data": {
      "image/png": "[encoded data removed]",
      "text/plain": [
       "<Figure size 640x480 with 1 Axes>"
      ]
     },
     "metadata": {},
     "output_type": "display_data"
    },
    {
     "data": {
      "text/plain": [
       "<Axes: xlabel='Samples', ylabel='Counts'>"
      ]
     },
     "execution_count": 88,
     "metadata": {},
     "output_type": "execute_result"
    }
   ],
   "source": [
    "fd.plot(20)"
   ]
  },
  {
   "cell_type": "markdown",
   "id": "65a348ed-5160-4e3f-9f80-28714f7434be",
   "metadata": {},
   "source": [
    "## 6.. Performing Bi-gram on data"
   ]
  },
  {
   "cell_type": "code",
   "execution_count": 89,
   "id": "13090c21-2377-418e-a20e-4378ced916b7",
   "metadata": {},
   "outputs": [],
   "source": [
    "from nltk import FreqDist , bigrams , trigrams"
   ]
  },
  {
   "cell_type": "code",
   "execution_count": 90,
   "id": "5058983d-5bde-4c97-bb9c-071a5d3c5721",
   "metadata": {},
   "outputs": [],
   "source": [
    "bi_grams = bigrams(total_reviews_1D)"
   ]
  },
  {
   "cell_type": "code",
   "execution_count": 91,
   "id": "3dc949c6-8216-447c-8ba6-ec3955030306",
   "metadata": {},
   "outputs": [],
   "source": [
    "fd_bigrams = FreqDist()\n",
    "\n",
    "for bigram in bi_grams:\n",
    "    fd_bigrams[bigram] = fd_bigrams[bigram] + 1"
   ]
  },
  {
   "cell_type": "code",
   "execution_count": 92,
   "id": "0454ba4e-5113-43c7-b4ea-c1902d410eed",
   "metadata": {},
   "outputs": [
    {
     "data": {
      "image/png": "[encoded data removed]",
      "text/plain": [
       "<Figure size 640x480 with 1 Axes>"
      ]
     },
     "metadata": {},
     "output_type": "display_data"
    },
    {
     "data": {
      "text/plain": [
       "<Axes: xlabel='Samples', ylabel='Counts'>"
      ]
     },
     "execution_count": 92,
     "metadata": {},
     "output_type": "execute_result"
    }
   ],
   "source": [
    "fd_bigrams.plot(20)"
   ]
  },
  {
   "cell_type": "markdown",
   "id": "5f1bfc09-fa73-4203-87fd-d7b88aefb470",
   "metadata": {},
   "source": [
    "## 7.. Extract geographical-coordinates from data .."
   ]
  },
  {
   "cell_type": "code",
   "execution_count": 93,
   "id": "4825fa5f-90a7-419f-a80e-11456f74ce46",
   "metadata": {},
   "outputs": [
    {
     "name": "stdout",
     "output_type": "stream",
     "text": [
      "Collecting geocoder\n",
      "  Downloading geocoder-1.38.1-py2.py3-none-any.whl (98 kB)\n",
      "     ---------------------------------------- 98.6/98.6 kB 1.1 MB/s eta 0:00:00\n",
      "Requirement already satisfied: future in c:\\users\\user\\anaconda3\\lib\\site-packages (from geocoder) (0.18.3)\n",
      "Requirement already satisfied: click in c:\\users\\user\\anaconda3\\lib\\site-packages (from geocoder) (8.0.4)\n",
      "Collecting ratelim\n",
      "  Downloading ratelim-0.1.6-py2.py3-none-any.whl (4.0 kB)\n",
      "Requirement already satisfied: requests in c:\\users\\user\\anaconda3\\lib\\site-packages (from geocoder) (2.28.1)\n",
      "Requirement already satisfied: six in c:\\users\\user\\anaconda3\\lib\\site-packages (from geocoder) (1.16.0)\n",
      "Requirement already satisfied: colorama in c:\\users\\user\\anaconda3\\lib\\site-packages (from click->geocoder) (0.4.6)\n",
      "Requirement already satisfied: decorator in c:\\users\\user\\anaconda3\\lib\\site-packages (from ratelim->geocoder) (5.1.1)\n",
      "Requirement already satisfied: charset-normalizer<3,>=2 in c:\\users\\user\\anaconda3\\lib\\site-packages (from requests->geocoder) (2.0.4)\n",
      "Requirement already satisfied: idna<4,>=2.5 in c:\\users\\user\\anaconda3\\lib\\site-packages (from requests->geocoder) (3.4)\n",
      "Requirement already satisfied: certifi>=2017.4.17 in c:\\users\\user\\anaconda3\\lib\\site-packages (from requests->geocoder) (2022.12.7)\n",
      "Requirement already satisfied: urllib3<1.27,>=1.21.1 in c:\\users\\user\\anaconda3\\lib\\site-packages (from requests->geocoder) (1.26.14)\n",
      "Installing collected packages: ratelim, geocoder\n",
      "Successfully installed geocoder-1.38.1 ratelim-0.1.6\n",
      "Collecting geopy\n",
      "  Downloading geopy-2.4.1-py3-none-any.whl (125 kB)\n",
      "     -------------------------------------- 125.4/125.4 kB 1.0 MB/s eta 0:00:00\n",
      "Collecting geographiclib<3,>=1.52\n",
      "  Downloading geographiclib-2.0-py3-none-any.whl (40 kB)\n",
      "     ---------------------------------------- 40.3/40.3 kB ? eta 0:00:00\n",
      "Installing collected packages: geographiclib, geopy\n",
      "Successfully installed geographiclib-2.0 geopy-2.4.1\n"
     ]
    }
   ],
   "source": [
    "!pip install geocoder\n",
    "!pip install geopy"
   ]
  },
  {
   "cell_type": "code",
   "execution_count": 94,
   "id": "02228ebf-075f-43d8-a950-7712311f18a4",
   "metadata": {},
   "outputs": [
    {
     "data": {
      "text/plain": [
       "0                      Banashankari\n",
       "1                      Banashankari\n",
       "2                      Banashankari\n",
       "3                      Banashankari\n",
       "4                      Basavanagudi\n",
       "                    ...            \n",
       "51712                    Whitefield\n",
       "51713                    Whitefield\n",
       "51714                    Whitefield\n",
       "51715    ITPL Main Road, Whitefield\n",
       "51716    ITPL Main Road, Whitefield\n",
       "Name: location, Length: 51717, dtype: object"
      ]
     },
     "execution_count": 94,
     "metadata": {},
     "output_type": "execute_result"
    }
   ],
   "source": [
    "df['location']"
   ]
  },
  {
   "cell_type": "code",
   "execution_count": 95,
   "id": "38f30c33-473d-4806-a05c-eae196f3df3f",
   "metadata": {},
   "outputs": [
    {
     "data": {
      "text/plain": [
       "array(['Banashankari', 'Basavanagudi', 'Mysore Road', 'Jayanagar',\n",
       "       'Kumaraswamy Layout', 'Rajarajeshwari Nagar', 'Vijay Nagar',\n",
       "       'Uttarahalli', 'JP Nagar', 'South Bangalore', 'City Market',\n",
       "       'Nagarbhavi', 'Bannerghatta Road', 'BTM', 'Kanakapura Road',\n",
       "       'Bommanahalli', None, 'CV Raman Nagar', 'Electronic City', 'HSR',\n",
       "       'Marathahalli', 'Sarjapur Road', 'Wilson Garden', 'Shanti Nagar',\n",
       "       'Koramangala 5th Block', 'Koramangala 8th Block', 'Richmond Road',\n",
       "       'Koramangala 7th Block', 'Jalahalli', 'Koramangala 4th Block',\n",
       "       'Bellandur', 'Whitefield', 'East Bangalore', 'Old Airport Road',\n",
       "       'Indiranagar', 'Koramangala 1st Block', 'Frazer Town', 'RT Nagar',\n",
       "       'MG Road', 'Brigade Road', 'Lavelle Road', 'Church Street',\n",
       "       'Ulsoor', 'Residency Road', 'Shivajinagar', 'Infantry Road',\n",
       "       'St. Marks Road', 'Cunningham Road', 'Race Course Road',\n",
       "       'Commercial Street', 'Vasanth Nagar', 'HBR Layout', 'Domlur',\n",
       "       'Ejipura', 'Jeevan Bhima Nagar', 'Old Madras Road', 'Malleshwaram',\n",
       "       'Seshadripuram', 'Kammanahalli', 'Koramangala 6th Block',\n",
       "       'Majestic', 'Langford Town', 'Central Bangalore', 'Sanjay Nagar',\n",
       "       'Brookefield', 'ITPL Main Road, Whitefield',\n",
       "       'Varthur Main Road, Whitefield', 'KR Puram',\n",
       "       'Koramangala 2nd Block', 'Koramangala 3rd Block', 'Koramangala',\n",
       "       'Hosur Road', 'Rajajinagar', 'Banaswadi', 'North Bangalore',\n",
       "       'Nagawara', 'Hennur', 'Kalyan Nagar', 'New BEL Road', 'Jakkur',\n",
       "       'Rammurthy Nagar', 'Thippasandra', 'Kaggadasapura', 'Hebbal',\n",
       "       'Kengeri', 'Sankey Road', 'Sadashiv Nagar', 'Basaveshwara Nagar',\n",
       "       'Yeshwantpur', 'West Bangalore', 'Magadi Road', 'Yelahanka',\n",
       "       'Sahakara Nagar', 'Peenya'], dtype=object)"
      ]
     },
     "execution_count": 95,
     "metadata": {},
     "output_type": "execute_result"
    }
   ],
   "source": [
    "df['location'].unique()"
   ]
  },
  {
   "cell_type": "code",
   "execution_count": 96,
   "id": "71628b4d-6462-45f2-99d4-6bb056e8e9ae",
   "metadata": {},
   "outputs": [
    {
     "data": {
      "text/plain": [
       "94"
      ]
     },
     "execution_count": 96,
     "metadata": {},
     "output_type": "execute_result"
    }
   ],
   "source": [
    "len(df['location'].unique())"
   ]
  },
  {
   "cell_type": "code",
   "execution_count": 97,
   "id": "4b52c7dc-76a2-4fd4-8d3e-5cd91e48a7dc",
   "metadata": {},
   "outputs": [],
   "source": [
    "### Lets add 'Bangalore , Karnataka , India' so that u will get more more accurate geographical co-ordinates..\n",
    "\n",
    "df['location'] = df['location'] + \" , Bangalore  , Karnataka , India \""
   ]
  },
  {
   "cell_type": "code",
   "execution_count": 98,
   "id": "b7b642d4-7140-4fe1-9a41-a917d381e31b",
   "metadata": {},
   "outputs": [],
   "source": [
    "df_copy = df.copy()"
   ]
  },
  {
   "cell_type": "code",
   "execution_count": 99,
   "id": "140d44d5-642e-497b-bfbc-fbebc85e0789",
   "metadata": {},
   "outputs": [
    {
     "data": {
      "text/plain": [
       "21"
      ]
     },
     "execution_count": 99,
     "metadata": {},
     "output_type": "execute_result"
    }
   ],
   "source": [
    "df_copy['location'].isnull().sum()"
   ]
  },
  {
   "cell_type": "code",
   "execution_count": 100,
   "id": "1def43cd-2d4f-48f8-996a-ede8c7139632",
   "metadata": {},
   "outputs": [],
   "source": [
    "df_copy = df_copy.dropna(subset=['location'])"
   ]
  },
  {
   "cell_type": "code",
   "execution_count": 101,
   "id": "5c845a30-fa07-4b4b-b301-fd4f0f8af26a",
   "metadata": {},
   "outputs": [],
   "source": [
    "locations = pd.DataFrame(df_copy['location'].unique())"
   ]
  },
  {
   "cell_type": "code",
   "execution_count": 102,
   "id": "05e0e178-39a2-4da4-8400-e8f36fd58d40",
   "metadata": {},
   "outputs": [
    {
     "data": {
      "text/html": [
       "<div>\n",
       "<style scoped>\n",
       "    .dataframe tbody tr th:only-of-type {\n",
       "        vertical-align: middle;\n",
       "    }\n",
       "\n",
       "    .dataframe tbody tr th {\n",
       "        vertical-align: top;\n",
       "    }\n",
       "\n",
       "    .dataframe thead th {\n",
       "        text-align: right;\n",
       "    }\n",
       "</style>\n",
       "<table border=\"1\" class=\"dataframe\">\n",
       "  <thead>\n",
       "    <tr style=\"text-align: right;\">\n",
       "      <th></th>\n",
       "      <th>0</th>\n",
       "    </tr>\n",
       "  </thead>\n",
       "  <tbody>\n",
       "    <tr>\n",
       "      <th>0</th>\n",
       "      <td>Banashankari , Bangalore  , Karnataka , India</td>\n",
       "    </tr>\n",
       "    <tr>\n",
       "      <th>1</th>\n",
       "      <td>Basavanagudi , Bangalore  , Karnataka , India</td>\n",
       "    </tr>\n",
       "    <tr>\n",
       "      <th>2</th>\n",
       "      <td>Mysore Road , Bangalore  , Karnataka , India</td>\n",
       "    </tr>\n",
       "    <tr>\n",
       "      <th>3</th>\n",
       "      <td>Jayanagar , Bangalore  , Karnataka , India</td>\n",
       "    </tr>\n",
       "    <tr>\n",
       "      <th>4</th>\n",
       "      <td>Kumaraswamy Layout , Bangalore  , Karnataka , ...</td>\n",
       "    </tr>\n",
       "    <tr>\n",
       "      <th>...</th>\n",
       "      <td>...</td>\n",
       "    </tr>\n",
       "    <tr>\n",
       "      <th>88</th>\n",
       "      <td>West Bangalore , Bangalore  , Karnataka , India</td>\n",
       "    </tr>\n",
       "    <tr>\n",
       "      <th>89</th>\n",
       "      <td>Magadi Road , Bangalore  , Karnataka , India</td>\n",
       "    </tr>\n",
       "    <tr>\n",
       "      <th>90</th>\n",
       "      <td>Yelahanka , Bangalore  , Karnataka , India</td>\n",
       "    </tr>\n",
       "    <tr>\n",
       "      <th>91</th>\n",
       "      <td>Sahakara Nagar , Bangalore  , Karnataka , India</td>\n",
       "    </tr>\n",
       "    <tr>\n",
       "      <th>92</th>\n",
       "      <td>Peenya , Bangalore  , Karnataka , India</td>\n",
       "    </tr>\n",
       "  </tbody>\n",
       "</table>\n",
       "<p>93 rows × 1 columns</p>\n",
       "</div>"
      ],
      "text/plain": [
       "                                                    0\n",
       "0      Banashankari , Bangalore  , Karnataka , India \n",
       "1      Basavanagudi , Bangalore  , Karnataka , India \n",
       "2       Mysore Road , Bangalore  , Karnataka , India \n",
       "3         Jayanagar , Bangalore  , Karnataka , India \n",
       "4   Kumaraswamy Layout , Bangalore  , Karnataka , ...\n",
       "..                                                ...\n",
       "88   West Bangalore , Bangalore  , Karnataka , India \n",
       "89      Magadi Road , Bangalore  , Karnataka , India \n",
       "90        Yelahanka , Bangalore  , Karnataka , India \n",
       "91   Sahakara Nagar , Bangalore  , Karnataka , India \n",
       "92           Peenya , Bangalore  , Karnataka , India \n",
       "\n",
       "[93 rows x 1 columns]"
      ]
     },
     "execution_count": 102,
     "metadata": {},
     "output_type": "execute_result"
    }
   ],
   "source": [
    "locations"
   ]
  },
  {
   "cell_type": "code",
   "execution_count": 104,
   "id": "ea122b65-8a06-48ab-bfa7-a45fa32157f8",
   "metadata": {},
   "outputs": [],
   "source": [
    "locations.columns=['name']\n"
   ]
  },
  {
   "cell_type": "code",
   "execution_count": 105,
   "id": "7d487ba0-622d-4f0f-95fa-ebb06cb6849a",
   "metadata": {},
   "outputs": [
    {
     "data": {
      "text/html": [
       "<div>\n",
       "<style scoped>\n",
       "    .dataframe tbody tr th:only-of-type {\n",
       "        vertical-align: middle;\n",
       "    }\n",
       "\n",
       "    .dataframe tbody tr th {\n",
       "        vertical-align: top;\n",
       "    }\n",
       "\n",
       "    .dataframe thead th {\n",
       "        text-align: right;\n",
       "    }\n",
       "</style>\n",
       "<table border=\"1\" class=\"dataframe\">\n",
       "  <thead>\n",
       "    <tr style=\"text-align: right;\">\n",
       "      <th></th>\n",
       "      <th>name</th>\n",
       "    </tr>\n",
       "  </thead>\n",
       "  <tbody>\n",
       "    <tr>\n",
       "      <th>0</th>\n",
       "      <td>Banashankari , Bangalore  , Karnataka , India</td>\n",
       "    </tr>\n",
       "    <tr>\n",
       "      <th>1</th>\n",
       "      <td>Basavanagudi , Bangalore  , Karnataka , India</td>\n",
       "    </tr>\n",
       "    <tr>\n",
       "      <th>2</th>\n",
       "      <td>Mysore Road , Bangalore  , Karnataka , India</td>\n",
       "    </tr>\n",
       "    <tr>\n",
       "      <th>3</th>\n",
       "      <td>Jayanagar , Bangalore  , Karnataka , India</td>\n",
       "    </tr>\n",
       "    <tr>\n",
       "      <th>4</th>\n",
       "      <td>Kumaraswamy Layout , Bangalore  , Karnataka , ...</td>\n",
       "    </tr>\n",
       "    <tr>\n",
       "      <th>...</th>\n",
       "      <td>...</td>\n",
       "    </tr>\n",
       "    <tr>\n",
       "      <th>88</th>\n",
       "      <td>West Bangalore , Bangalore  , Karnataka , India</td>\n",
       "    </tr>\n",
       "    <tr>\n",
       "      <th>89</th>\n",
       "      <td>Magadi Road , Bangalore  , Karnataka , India</td>\n",
       "    </tr>\n",
       "    <tr>\n",
       "      <th>90</th>\n",
       "      <td>Yelahanka , Bangalore  , Karnataka , India</td>\n",
       "    </tr>\n",
       "    <tr>\n",
       "      <th>91</th>\n",
       "      <td>Sahakara Nagar , Bangalore  , Karnataka , India</td>\n",
       "    </tr>\n",
       "    <tr>\n",
       "      <th>92</th>\n",
       "      <td>Peenya , Bangalore  , Karnataka , India</td>\n",
       "    </tr>\n",
       "  </tbody>\n",
       "</table>\n",
       "<p>93 rows × 1 columns</p>\n",
       "</div>"
      ],
      "text/plain": [
       "                                                 name\n",
       "0      Banashankari , Bangalore  , Karnataka , India \n",
       "1      Basavanagudi , Bangalore  , Karnataka , India \n",
       "2       Mysore Road , Bangalore  , Karnataka , India \n",
       "3         Jayanagar , Bangalore  , Karnataka , India \n",
       "4   Kumaraswamy Layout , Bangalore  , Karnataka , ...\n",
       "..                                                ...\n",
       "88   West Bangalore , Bangalore  , Karnataka , India \n",
       "89      Magadi Road , Bangalore  , Karnataka , India \n",
       "90        Yelahanka , Bangalore  , Karnataka , India \n",
       "91   Sahakara Nagar , Bangalore  , Karnataka , India \n",
       "92           Peenya , Bangalore  , Karnataka , India \n",
       "\n",
       "[93 rows x 1 columns]"
      ]
     },
     "execution_count": 105,
     "metadata": {},
     "output_type": "execute_result"
    }
   ],
   "source": [
    "locations"
   ]
  },
  {
   "cell_type": "code",
   "execution_count": 106,
   "id": "b2ee8517-998d-4188-a1cc-6bf5affa863b",
   "metadata": {},
   "outputs": [],
   "source": [
    "from geopy.geocoders import Nominatim"
   ]
  },
  {
   "cell_type": "code",
   "execution_count": 107,
   "id": "10e9b71c-545b-40b5-b330-be391cabdc36",
   "metadata": {},
   "outputs": [],
   "source": [
    "geolocator = Nominatim(user_agent=\"app\" , timeout=None)"
   ]
  },
  {
   "cell_type": "code",
   "execution_count": 108,
   "id": "80a0ba70-3daf-4d22-81bf-932ed126de69",
   "metadata": {},
   "outputs": [],
   "source": [
    "lat=[]\n",
    "lon=[]\n",
    "\n",
    "for location in locations['name']:\n",
    "    location = geolocator.geocode(location)\n",
    "    if location is None:\n",
    "        lat.append(np.nan)\n",
    "        lon.append(np.nan)\n",
    "    else:\n",
    "        lat.append(location.latitude)\n",
    "        lon.append(location.longitude)\n",
    "    "
   ]
  },
  {
   "cell_type": "code",
   "execution_count": 109,
   "id": "1cf633d9-c6ca-4dac-aba6-4a5621bdb4f3",
   "metadata": {},
   "outputs": [],
   "source": [
    "locations['latitude'] = lat\n",
    "locations['longitude'] = lon"
   ]
  },
  {
   "cell_type": "code",
   "execution_count": 110,
   "id": "b1a840e2-4364-4a17-9927-672b2b4a8b8a",
   "metadata": {},
   "outputs": [
    {
     "data": {
      "text/html": [
       "<div>\n",
       "<style scoped>\n",
       "    .dataframe tbody tr th:only-of-type {\n",
       "        vertical-align: middle;\n",
       "    }\n",
       "\n",
       "    .dataframe tbody tr th {\n",
       "        vertical-align: top;\n",
       "    }\n",
       "\n",
       "    .dataframe thead th {\n",
       "        text-align: right;\n",
       "    }\n",
       "</style>\n",
       "<table border=\"1\" class=\"dataframe\">\n",
       "  <thead>\n",
       "    <tr style=\"text-align: right;\">\n",
       "      <th></th>\n",
       "      <th>name</th>\n",
       "      <th>latitude</th>\n",
       "      <th>longitude</th>\n",
       "    </tr>\n",
       "  </thead>\n",
       "  <tbody>\n",
       "    <tr>\n",
       "      <th>0</th>\n",
       "      <td>Banashankari , Bangalore  , Karnataka , India</td>\n",
       "      <td>12.915221</td>\n",
       "      <td>77.573598</td>\n",
       "    </tr>\n",
       "    <tr>\n",
       "      <th>1</th>\n",
       "      <td>Basavanagudi , Bangalore  , Karnataka , India</td>\n",
       "      <td>12.941726</td>\n",
       "      <td>77.575502</td>\n",
       "    </tr>\n",
       "    <tr>\n",
       "      <th>2</th>\n",
       "      <td>Mysore Road , Bangalore  , Karnataka , India</td>\n",
       "      <td>12.946662</td>\n",
       "      <td>77.530090</td>\n",
       "    </tr>\n",
       "    <tr>\n",
       "      <th>3</th>\n",
       "      <td>Jayanagar , Bangalore  , Karnataka , India</td>\n",
       "      <td>12.929273</td>\n",
       "      <td>77.582423</td>\n",
       "    </tr>\n",
       "    <tr>\n",
       "      <th>4</th>\n",
       "      <td>Kumaraswamy Layout , Bangalore  , Karnataka , ...</td>\n",
       "      <td>12.908149</td>\n",
       "      <td>77.555318</td>\n",
       "    </tr>\n",
       "    <tr>\n",
       "      <th>...</th>\n",
       "      <td>...</td>\n",
       "      <td>...</td>\n",
       "      <td>...</td>\n",
       "    </tr>\n",
       "    <tr>\n",
       "      <th>88</th>\n",
       "      <td>West Bangalore , Bangalore  , Karnataka , India</td>\n",
       "      <td>13.009476</td>\n",
       "      <td>77.553089</td>\n",
       "    </tr>\n",
       "    <tr>\n",
       "      <th>89</th>\n",
       "      <td>Magadi Road , Bangalore  , Karnataka , India</td>\n",
       "      <td>12.975653</td>\n",
       "      <td>77.555355</td>\n",
       "    </tr>\n",
       "    <tr>\n",
       "      <th>90</th>\n",
       "      <td>Yelahanka , Bangalore  , Karnataka , India</td>\n",
       "      <td>13.100698</td>\n",
       "      <td>77.596345</td>\n",
       "    </tr>\n",
       "    <tr>\n",
       "      <th>91</th>\n",
       "      <td>Sahakara Nagar , Bangalore  , Karnataka , India</td>\n",
       "      <td>13.062147</td>\n",
       "      <td>77.580061</td>\n",
       "    </tr>\n",
       "    <tr>\n",
       "      <th>92</th>\n",
       "      <td>Peenya , Bangalore  , Karnataka , India</td>\n",
       "      <td>13.032942</td>\n",
       "      <td>77.527325</td>\n",
       "    </tr>\n",
       "  </tbody>\n",
       "</table>\n",
       "<p>93 rows × 3 columns</p>\n",
       "</div>"
      ],
      "text/plain": [
       "                                                 name   latitude  longitude\n",
       "0      Banashankari , Bangalore  , Karnataka , India   12.915221  77.573598\n",
       "1      Basavanagudi , Bangalore  , Karnataka , India   12.941726  77.575502\n",
       "2       Mysore Road , Bangalore  , Karnataka , India   12.946662  77.530090\n",
       "3         Jayanagar , Bangalore  , Karnataka , India   12.929273  77.582423\n",
       "4   Kumaraswamy Layout , Bangalore  , Karnataka , ...  12.908149  77.555318\n",
       "..                                                ...        ...        ...\n",
       "88   West Bangalore , Bangalore  , Karnataka , India   13.009476  77.553089\n",
       "89      Magadi Road , Bangalore  , Karnataka , India   12.975653  77.555355\n",
       "90        Yelahanka , Bangalore  , Karnataka , India   13.100698  77.596345\n",
       "91   Sahakara Nagar , Bangalore  , Karnataka , India   13.062147  77.580061\n",
       "92           Peenya , Bangalore  , Karnataka , India   13.032942  77.527325\n",
       "\n",
       "[93 rows x 3 columns]"
      ]
     },
     "execution_count": 110,
     "metadata": {},
     "output_type": "execute_result"
    }
   ],
   "source": [
    "locations"
   ]
  },
  {
   "cell_type": "code",
   "execution_count": null,
   "id": "0cae434a-98d3-4ac4-a218-06b91a780662",
   "metadata": {},
   "outputs": [],
   "source": []
  },
  {
   "cell_type": "code",
   "execution_count": null,
   "id": "077d35ab-1d40-470e-977e-e5a7ba16e059",
   "metadata": {},
   "outputs": [],
   "source": []
  },
  {
   "cell_type": "code",
   "execution_count": null,
   "id": "8f488429-5ae7-4668-93c8-c5d04462e25a",
   "metadata": {},
   "outputs": [],
   "source": []
  },
  {
   "cell_type": "code",
   "execution_count": null,
   "id": "d96b5285-781e-4649-849b-38d7659c98f5",
   "metadata": {},
   "outputs": [],
   "source": []
  }
 ],
 "metadata": {
  "kernelspec": {
   "display_name": "Python 3 (ipykernel)",
   "language": "python",
   "name": "python3"
  },
  "language_info": {
   "codemirror_mode": {
    "name": "ipython",
    "version": 3
   },
   "file_extension": ".py",
   "mimetype": "text/x-python",
   "name": "python",
   "nbconvert_exporter": "python",
   "pygments_lexer": "ipython3",
   "version": "3.10.9"
  }
 },
 "nbformat": 4,
 "nbformat_minor": 5
}
